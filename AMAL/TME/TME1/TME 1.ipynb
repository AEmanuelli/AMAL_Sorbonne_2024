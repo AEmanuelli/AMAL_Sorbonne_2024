{
 "cells": [
  {
   "cell_type": "code",
   "execution_count": null,
   "id": "9926fc28-6aef-4f1d-a4eb-82f73997c304",
   "metadata": {},
   "outputs": [
    {
     "name": "stdout",
     "output_type": "stream",
     "text": [
      "usage: conda [-h] [--no-plugins] [-V] COMMAND ...\n",
      "conda: error: unrecognized arguments: mkl\n"
     ]
    }
   ],
   "source": [
    "\n",
    "from src.tp1 import *\n",
    "from src.tp1_gradcheck import *\n",
    "\n",
    "linear_gradcheck_result_corrected = gradcheck(linear, (X_linear, W_linear, b_linear))\n",
    "mse_gradcheck_result_corrected, linear_gradcheck_result_corrected"
   ]
  },
  {
   "cell_type": "code",
   "execution_count": 2,
   "id": "bb2c2d05",
   "metadata": {},
   "outputs": [
    {
     "name": "stdout",
     "output_type": "stream",
     "text": [
      "Collecting package metadata (current_repodata.json): \\ DEBUG:urllib3.connectionpool:Starting new HTTPS connection (1): repo.anaconda.com:443\n",
      "DEBUG:urllib3.connectionpool:Starting new HTTPS connection (1): repo.anaconda.com:443\n",
      "DEBUG:urllib3.connectionpool:Starting new HTTPS connection (1): repo.anaconda.com:443\n",
      "DEBUG:urllib3.connectionpool:Starting new HTTPS connection (1): repo.anaconda.com:443\n",
      "/ DEBUG:urllib3.connectionpool:https://repo.anaconda.com:443 \"GET /pkgs/main/noarch/current_repodata.json HTTP/1.1\" 304 0\n",
      "DEBUG:urllib3.connectionpool:https://repo.anaconda.com:443 \"GET /pkgs/main/osx-64/current_repodata.json HTTP/1.1\" 304 0\n",
      "DEBUG:urllib3.connectionpool:https://repo.anaconda.com:443 \"GET /pkgs/r/osx-64/current_repodata.json HTTP/1.1\" 304 0\n",
      "- DEBUG:urllib3.connectionpool:https://repo.anaconda.com:443 \"GET /pkgs/r/noarch/current_repodata.json HTTP/1.1\" 304 0\n",
      "done\n",
      "Solving environment: unsuccessful initial attempt using frozen solve. Retrying with flexible solve.\n",
      "Collecting package metadata (repodata.json): - DEBUG:urllib3.connectionpool:Starting new HTTPS connection (1): repo.anaconda.com:443\n",
      "DEBUG:urllib3.connectionpool:Starting new HTTPS connection (1): repo.anaconda.com:443\n",
      "DEBUG:urllib3.connectionpool:Starting new HTTPS connection (1): repo.anaconda.com:443\n",
      "DEBUG:urllib3.connectionpool:Starting new HTTPS connection (1): repo.anaconda.com:443\n",
      "| DEBUG:urllib3.connectionpool:https://repo.anaconda.com:443 \"GET /pkgs/r/noarch/repodata.json HTTP/1.1\" 304 0\n",
      "DEBUG:urllib3.connectionpool:https://repo.anaconda.com:443 \"GET /pkgs/r/osx-64/repodata.json HTTP/1.1\" 304 0\n",
      "DEBUG:urllib3.connectionpool:https://repo.anaconda.com:443 \"GET /pkgs/main/noarch/repodata.json HTTP/1.1\" 304 0\n",
      "DEBUG:urllib3.connectionpool:https://repo.anaconda.com:443 \"GET /pkgs/main/osx-64/repodata.json HTTP/1.1\" 304 0\n",
      "done\n",
      "Solving environment: unsuccessful initial attempt using frozen solve. Retrying with flexible solve.\n",
      "\n",
      "PackagesNotFoundError: The following packages are not available from current channels:\n",
      "\n",
      "  - torch\n",
      "\n",
      "Current channels:\n",
      "\n",
      "  - https://conda.anaconda.org/conda-forge/osx-64\n",
      "  - https://conda.anaconda.org/conda-forge/noarch\n",
      "  - https://repo.anaconda.com/pkgs/main/osx-64\n",
      "  - https://repo.anaconda.com/pkgs/main/noarch\n",
      "  - https://repo.anaconda.com/pkgs/r/osx-64\n",
      "  - https://repo.anaconda.com/pkgs/r/noarch\n",
      "\n",
      "To search for alternate channels that may provide the conda package you're\n",
      "looking for, navigate to\n",
      "\n",
      "    https://anaconda.org\n",
      "\n",
      "and use the search bar at the top of the page.\n",
      "\n",
      "\n"
     ]
    }
   ],
   "source": [
    "!conda install torch"
   ]
  },
  {
   "cell_type": "code",
   "execution_count": 3,
   "id": "8d803754-520d-4b91-aa8f-4828d4b586d5",
   "metadata": {},
   "outputs": [
    {
     "ename": "NameError",
     "evalue": "name 'torch' is not defined",
     "output_type": "error",
     "traceback": [
      "\u001b[0;31m---------------------------------------------------------------------------\u001b[0m",
      "\u001b[0;31mNameError\u001b[0m                                 Traceback (most recent call last)",
      "\u001b[1;32m/Users/apple/TMEs/student_tp1/TME 1.ipynb Cellule 3\u001b[0m line \u001b[0;36m4\n\u001b[1;32m      <a href='vscode-notebook-cell:/Users/apple/TMEs/student_tp1/TME%201.ipynb#W1sZmlsZQ%3D%3D?line=0'>1</a>\u001b[0m \u001b[39m# Implementing the forward, backward, and parameter update steps in the gradient descent optimization\u001b[39;00m\n\u001b[1;32m      <a href='vscode-notebook-cell:/Users/apple/TMEs/student_tp1/TME%201.ipynb#W1sZmlsZQ%3D%3D?line=1'>2</a>\u001b[0m \n\u001b[1;32m      <a href='vscode-notebook-cell:/Users/apple/TMEs/student_tp1/TME%201.ipynb#W1sZmlsZQ%3D%3D?line=2'>3</a>\u001b[0m \u001b[39m# Provided data and parameters\u001b[39;00m\n\u001b[0;32m----> <a href='vscode-notebook-cell:/Users/apple/TMEs/student_tp1/TME%201.ipynb#W1sZmlsZQ%3D%3D?line=3'>4</a>\u001b[0m x \u001b[39m=\u001b[39m torch\u001b[39m.\u001b[39mrandn(\u001b[39m50\u001b[39m, \u001b[39m13\u001b[39m)\n\u001b[1;32m      <a href='vscode-notebook-cell:/Users/apple/TMEs/student_tp1/TME%201.ipynb#W1sZmlsZQ%3D%3D?line=4'>5</a>\u001b[0m y \u001b[39m=\u001b[39m torch\u001b[39m.\u001b[39mrandn(\u001b[39m50\u001b[39m, \u001b[39m3\u001b[39m)\n\u001b[1;32m      <a href='vscode-notebook-cell:/Users/apple/TMEs/student_tp1/TME%201.ipynb#W1sZmlsZQ%3D%3D?line=5'>6</a>\u001b[0m w \u001b[39m=\u001b[39m torch\u001b[39m.\u001b[39mrandn(\u001b[39m13\u001b[39m, \u001b[39m3\u001b[39m)\n",
      "\u001b[0;31mNameError\u001b[0m: name 'torch' is not defined"
     ]
    }
   ],
   "source": [
    "# Implementing the forward, backward, and parameter update steps in the gradient descent optimization\n",
    "\n",
    "# Provided data and parameters\n",
    "x = torch.randn(50, 13)\n",
    "y = torch.randn(50, 3)\n",
    "w = torch.randn(13, 3)\n",
    "b = torch.randn(3)\n",
    "epsilon = 0.05\n",
    "\n",
    "# Placeholder lists to store the loss values and updated parameters for each iteration\n",
    "losses = []\n",
    "ws = []\n",
    "bs = []\n",
    "\n",
    "# Gradient descent optimization loop\n",
    "for n_iter in range(100):\n",
    "    # Forward pass: Compute predictions and loss\n",
    "    ctx_linear = Context()\n",
    "    yhat = Linear.forward(ctx_linear, x, w, b)\n",
    "    ctx_mse = Context()\n",
    "    loss = MSE.forward(ctx_mse, yhat, y)\n",
    "    losses.append(loss.item())\n",
    "    \n",
    "    # Backward pass: Compute gradients\n",
    "    grad_yhat, _ = MSE.backward(ctx_mse, 1)\n",
    "    grad_x, grad_w, grad_b = Linear.backward(ctx_linear, grad_yhat)\n",
    "    \n",
    "    # Update parameters using the gradients\n",
    "    w = w - epsilon * grad_w\n",
    "    b = b - epsilon * grad_b\n",
    "    ws.append(w)\n",
    "    bs.append(b)\n",
    "\n",
    "# Return the loss values for each iteration and the final updated parameters\n",
    "losses, ws[-1], bs[-1]"
   ]
  }
 ],
 "metadata": {
  "kernelspec": {
   "display_name": "Python 3 (ipykernel)",
   "language": "python",
   "name": "python3"
  },
  "language_info": {
   "codemirror_mode": {
    "name": "ipython",
    "version": 3
   },
   "file_extension": ".py",
   "mimetype": "text/x-python",
   "name": "python",
   "nbconvert_exporter": "python",
   "pygments_lexer": "ipython3",
   "version": "3.12.0"
  }
 },
 "nbformat": 4,
 "nbformat_minor": 5
}
