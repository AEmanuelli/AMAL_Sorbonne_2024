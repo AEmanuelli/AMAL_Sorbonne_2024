{
 "cells": [
  {
   "cell_type": "code",
   "execution_count": 1,
   "id": "f71feedf",
   "metadata": {},
   "outputs": [],
   "source": [
    "!source /Users/apple/Documents/GitHub/AMAL/AMAL/TME/TME/bin/activate\n",
    "\n",
    "# !source TME/bin/activate\n",
    "# # .\\env_name\\Scripts\\activate\n",
    "# !pip install master_dac"
   ]
  },
  {
   "cell_type": "code",
   "execution_count": 25,
   "id": "62b23725",
   "metadata": {},
   "outputs": [
    {
     "name": "stdout",
     "output_type": "stream",
     "text": [
      "Defaulting to user installation because normal site-packages is not writeable\n",
      "Collecting tensorboard\n",
      "  Downloading tensorboard-2.15.1-py3-none-any.whl (5.5 MB)\n",
      "\u001b[K     |████████████████████████████████| 5.5 MB 1.5 MB/s eta 0:00:01\n",
      "\u001b[?25hCollecting protobuf<4.24,>=3.19.6\n",
      "  Downloading protobuf-4.23.4-cp37-abi3-macosx_10_9_universal2.whl (400 kB)\n",
      "\u001b[K     |████████████████████████████████| 400 kB 1.5 MB/s eta 0:00:01\n",
      "\u001b[?25hCollecting google-auth-oauthlib<2,>=0.5\n",
      "  Downloading google_auth_oauthlib-1.1.0-py2.py3-none-any.whl (19 kB)\n",
      "Requirement already satisfied: setuptools>=41.0.0 in /Library/Developer/CommandLineTools/Library/Frameworks/Python3.framework/Versions/3.9/lib/python3.9/site-packages (from tensorboard) (58.0.4)\n",
      "Collecting grpcio>=1.48.2\n",
      "  Downloading grpcio-1.59.2-cp39-cp39-macosx_10_10_universal2.whl (9.6 MB)\n",
      "\u001b[K     |████████████████████████████████| 9.6 MB 138 kB/s eta 0:00:01\n",
      "\u001b[?25hCollecting werkzeug>=1.0.1\n",
      "  Downloading werkzeug-3.0.1-py3-none-any.whl (226 kB)\n",
      "\u001b[K     |████████████████████████████████| 226 kB 1.5 MB/s eta 0:00:01\n",
      "\u001b[?25hCollecting markdown>=2.6.8\n",
      "  Downloading Markdown-3.5.1-py3-none-any.whl (102 kB)\n",
      "\u001b[K     |████████████████████████████████| 102 kB 1.5 MB/s ta 0:00:01\n",
      "\u001b[?25hRequirement already satisfied: numpy>=1.12.0 in /Users/apple/Library/Python/3.9/lib/python/site-packages (from tensorboard) (1.26.1)\n",
      "Requirement already satisfied: six>1.9 in /Library/Developer/CommandLineTools/Library/Frameworks/Python3.framework/Versions/3.9/lib/python3.9/site-packages (from tensorboard) (1.15.0)\n",
      "Collecting tensorboard-data-server<0.8.0,>=0.7.0\n",
      "  Using cached tensorboard_data_server-0.7.2-py3-none-macosx_10_9_x86_64.whl (4.8 MB)\n",
      "Collecting google-auth<3,>=1.6.3\n",
      "  Downloading google_auth-2.23.4-py2.py3-none-any.whl (183 kB)\n",
      "\u001b[K     |████████████████████████████████| 183 kB 1.5 MB/s eta 0:00:01\n",
      "\u001b[?25hCollecting absl-py>=0.4\n",
      "  Using cached absl_py-2.0.0-py3-none-any.whl (130 kB)\n",
      "Requirement already satisfied: requests<3,>=2.21.0 in /Users/apple/Library/Python/3.9/lib/python/site-packages (from tensorboard) (2.31.0)\n",
      "Collecting rsa<5,>=3.1.4\n",
      "  Using cached rsa-4.9-py3-none-any.whl (34 kB)\n",
      "Collecting cachetools<6.0,>=2.0.0\n",
      "  Using cached cachetools-5.3.2-py3-none-any.whl (9.3 kB)\n",
      "Collecting pyasn1-modules>=0.2.1\n",
      "  Using cached pyasn1_modules-0.3.0-py2.py3-none-any.whl (181 kB)\n",
      "Collecting requests-oauthlib>=0.7.0\n",
      "  Using cached requests_oauthlib-1.3.1-py2.py3-none-any.whl (23 kB)\n",
      "Requirement already satisfied: importlib-metadata>=4.4 in /Users/apple/Library/Python/3.9/lib/python/site-packages (from markdown>=2.6.8->tensorboard) (6.8.0)\n",
      "Requirement already satisfied: zipp>=0.5 in /Users/apple/Library/Python/3.9/lib/python/site-packages (from importlib-metadata>=4.4->markdown>=2.6.8->tensorboard) (3.17.0)\n",
      "Collecting pyasn1<0.6.0,>=0.4.6\n",
      "  Using cached pyasn1-0.5.0-py2.py3-none-any.whl (83 kB)\n",
      "Requirement already satisfied: idna<4,>=2.5 in /Users/apple/Library/Python/3.9/lib/python/site-packages (from requests<3,>=2.21.0->tensorboard) (3.4)\n",
      "Requirement already satisfied: urllib3<3,>=1.21.1 in /Users/apple/Library/Python/3.9/lib/python/site-packages (from requests<3,>=2.21.0->tensorboard) (2.0.5)\n",
      "Requirement already satisfied: certifi>=2017.4.17 in /Users/apple/Library/Python/3.9/lib/python/site-packages (from requests<3,>=2.21.0->tensorboard) (2023.7.22)\n",
      "Requirement already satisfied: charset-normalizer<4,>=2 in /Users/apple/Library/Python/3.9/lib/python/site-packages (from requests<3,>=2.21.0->tensorboard) (3.2.0)\n",
      "Collecting oauthlib>=3.0.0\n",
      "  Using cached oauthlib-3.2.2-py3-none-any.whl (151 kB)\n",
      "Requirement already satisfied: MarkupSafe>=2.1.1 in /Users/apple/Library/Python/3.9/lib/python/site-packages (from werkzeug>=1.0.1->tensorboard) (2.1.3)\n",
      "Installing collected packages: pyasn1, rsa, pyasn1-modules, oauthlib, cachetools, requests-oauthlib, google-auth, werkzeug, tensorboard-data-server, protobuf, markdown, grpcio, google-auth-oauthlib, absl-py, tensorboard\n",
      "Successfully installed absl-py-2.0.0 cachetools-5.3.2 google-auth-2.23.4 google-auth-oauthlib-1.1.0 grpcio-1.59.2 markdown-3.5.1 oauthlib-3.2.2 protobuf-4.23.4 pyasn1-0.5.0 pyasn1-modules-0.3.0 requests-oauthlib-1.3.1 rsa-4.9 tensorboard-2.15.1 tensorboard-data-server-0.7.2 werkzeug-3.0.1\n",
      "\u001b[33mWARNING: You are using pip version 21.2.4; however, version 23.3.1 is available.\n",
      "You should consider upgrading via the '/Library/Developer/CommandLineTools/usr/bin/python3 -m pip install --upgrade pip' command.\u001b[0m\n"
     ]
    }
   ],
   "source": [
    "# !pip install master_dac\n",
    "# !pip install torch torchvision\n",
    "# !pip show torch\n",
    "\n",
    "# !python3 -m pip install torch torchvision\n",
    "!python3 -m pip install tensorboard"
   ]
  },
  {
   "cell_type": "code",
   "execution_count": 23,
   "id": "9926fc28-6aef-4f1d-a4eb-82f73997c304",
   "metadata": {},
   "outputs": [],
   "source": [
    "from src.tp1 import *\n",
    "from src.tp1_gradcheck import *"
   ]
  },
  {
   "cell_type": "code",
   "execution_count": 24,
   "id": "6a2fa986",
   "metadata": {},
   "outputs": [],
   "source": [
    "!python src/tp1_gradcheck.py"
   ]
  },
  {
   "cell_type": "code",
   "execution_count": 18,
   "id": "8d803754-520d-4b91-aa8f-4828d4b586d5",
   "metadata": {},
   "outputs": [
    {
     "ename": "RuntimeError",
     "evalue": "a Tensor with 150 elements cannot be converted to Scalar",
     "output_type": "error",
     "traceback": [
      "\u001b[0;31m---------------------------------------------------------------------------\u001b[0m",
      "\u001b[0;31mRuntimeError\u001b[0m                              Traceback (most recent call last)",
      "\u001b[1;32m/Users/apple/Documents/GitHub/AMAL/AMAL/TME/TME1/TME_1.ipynb Cellule 4\u001b[0m line \u001b[0;36m2\n\u001b[1;32m     <a href='vscode-notebook-cell:/Users/apple/Documents/GitHub/AMAL/AMAL/TME/TME1/TME_1.ipynb#W3sZmlsZQ%3D%3D?line=19'>20</a>\u001b[0m ctx_mse \u001b[39m=\u001b[39m Context()\n\u001b[1;32m     <a href='vscode-notebook-cell:/Users/apple/Documents/GitHub/AMAL/AMAL/TME/TME1/TME_1.ipynb#W3sZmlsZQ%3D%3D?line=20'>21</a>\u001b[0m loss \u001b[39m=\u001b[39m MSE\u001b[39m.\u001b[39mforward(ctx_mse, yhat, y)\n\u001b[0;32m---> <a href='vscode-notebook-cell:/Users/apple/Documents/GitHub/AMAL/AMAL/TME/TME1/TME_1.ipynb#W3sZmlsZQ%3D%3D?line=21'>22</a>\u001b[0m losses\u001b[39m.\u001b[39mappend(loss\u001b[39m.\u001b[39;49mitem())\n\u001b[1;32m     <a href='vscode-notebook-cell:/Users/apple/Documents/GitHub/AMAL/AMAL/TME/TME1/TME_1.ipynb#W3sZmlsZQ%3D%3D?line=23'>24</a>\u001b[0m \u001b[39m# Backward pass: Compute gradients\u001b[39;00m\n\u001b[1;32m     <a href='vscode-notebook-cell:/Users/apple/Documents/GitHub/AMAL/AMAL/TME/TME1/TME_1.ipynb#W3sZmlsZQ%3D%3D?line=24'>25</a>\u001b[0m grad_yhat, _ \u001b[39m=\u001b[39m MSE\u001b[39m.\u001b[39mbackward(ctx_mse, \u001b[39m1\u001b[39m)\n",
      "\u001b[0;31mRuntimeError\u001b[0m: a Tensor with 150 elements cannot be converted to Scalar"
     ]
    }
   ],
   "source": [
    "# Implementing the forward, backward, and parameter update steps in the gradient descent optimization\n",
    "\n",
    "# Provided data and parameters\n",
    "x = torch.randn(50, 13)\n",
    "y = torch.randn(50, 3)\n",
    "w = torch.randn(13, 3)\n",
    "b = torch.randn(3)\n",
    "epsilon = 0.05\n",
    "\n",
    "# Placeholder lists to store the loss values and updated parameters for each iteration\n",
    "losses = []\n",
    "ws = []\n",
    "bs = []\n",
    "\n",
    "# Gradient descent optimization loop\n",
    "for n_iter in range(100):\n",
    "    # Forward pass: Compute predictions and loss\n",
    "    ctx_linear = Context()\n",
    "    yhat = Linear.forward(ctx_linear, x, w, b)\n",
    "    ctx_mse = Context()\n",
    "    loss = MSE.forward(ctx_mse, yhat, y)\n",
    "    losses.append(loss.item())\n",
    "    \n",
    "    # Backward pass: Compute gradients\n",
    "    grad_yhat, _ = MSE.backward(ctx_mse, 1)\n",
    "    grad_x, grad_w, grad_b = Linear.backward(ctx_linear, grad_yhat)\n",
    "    \n",
    "    # Update parameters using the gradients\n",
    "    w = w - epsilon * grad_w\n",
    "    b = b - epsilon * grad_b\n",
    "    ws.append(w)\n",
    "    bs.append(b)\n",
    "\n",
    "# Return the loss values for each iteration and the final updated parameters\n",
    "losses, ws[-1], bs[-1]"
   ]
  }
 ],
 "metadata": {
  "kernelspec": {
   "display_name": "Python 3 (ipykernel)",
   "language": "python",
   "name": "python3"
  },
  "language_info": {
   "codemirror_mode": {
    "name": "ipython",
    "version": 3
   },
   "file_extension": ".py",
   "mimetype": "text/x-python",
   "name": "python",
   "nbconvert_exporter": "python",
   "pygments_lexer": "ipython3",
   "version": "3.9.6"
  }
 },
 "nbformat": 4,
 "nbformat_minor": 5
}
