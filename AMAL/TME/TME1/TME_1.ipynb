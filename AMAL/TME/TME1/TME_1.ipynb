{
 "cells": [
  {
   "cell_type": "code",
   "execution_count": 1,
   "id": "f71feedf",
   "metadata": {},
   "outputs": [],
   "source": [
    "!source /Users/apple/Documents/GitHub/AMAL/AMAL/TME/TME/bin/activate\n",
    "\n",
    "# !source TME/bin/activate\n",
    "# # .\\env_name\\Scripts\\activate\n",
    "# !pip install master_dac"
   ]
  },
  {
   "cell_type": "code",
   "execution_count": 2,
   "id": "62b23725",
   "metadata": {},
   "outputs": [
    {
     "name": "stdout",
     "output_type": "stream",
     "text": [
      "Collecting tensorboard\n",
      "  Downloading tensorboard-2.17.1-py3-none-any.whl.metadata (1.6 kB)\n",
      "Collecting absl-py>=0.4 (from tensorboard)\n",
      "  Downloading absl_py-2.1.0-py3-none-any.whl.metadata (2.3 kB)\n",
      "Collecting grpcio>=1.48.2 (from tensorboard)\n",
      "  Downloading grpcio-1.66.1-cp39-cp39-macosx_10_9_universal2.whl.metadata (3.9 kB)\n",
      "Collecting markdown>=2.6.8 (from tensorboard)\n",
      "  Downloading Markdown-3.7-py3-none-any.whl.metadata (7.0 kB)\n",
      "Collecting numpy>=1.12.0 (from tensorboard)\n",
      "  Downloading numpy-2.0.2-cp39-cp39-macosx_14_0_x86_64.whl.metadata (60 kB)\n",
      "\u001b[2K     \u001b[90m━━━━━━━━━━━━━━━━━━━━━━━━━━━━━━━━━━━━━━━━\u001b[0m \u001b[32m60.9/60.9 kB\u001b[0m \u001b[31m1.4 MB/s\u001b[0m eta \u001b[36m0:00:00\u001b[0mta \u001b[36m0:00:01\u001b[0m\n",
      "\u001b[?25hRequirement already satisfied: packaging in /Users/apple/anaconda3/envs/TME/lib/python3.9/site-packages (from tensorboard) (24.1)\n",
      "Collecting protobuf!=4.24.0,>=3.19.6 (from tensorboard)\n",
      "  Downloading protobuf-5.28.2-cp38-abi3-macosx_10_9_universal2.whl.metadata (592 bytes)\n",
      "Requirement already satisfied: setuptools>=41.0.0 in /Users/apple/anaconda3/envs/TME/lib/python3.9/site-packages (from tensorboard) (68.2.2)\n",
      "Requirement already satisfied: six>1.9 in /Users/apple/anaconda3/envs/TME/lib/python3.9/site-packages (from tensorboard) (1.16.0)\n",
      "Collecting tensorboard-data-server<0.8.0,>=0.7.0 (from tensorboard)\n",
      "  Using cached tensorboard_data_server-0.7.2-py3-none-macosx_10_9_x86_64.whl.metadata (1.1 kB)\n",
      "Collecting werkzeug>=1.0.1 (from tensorboard)\n",
      "  Downloading werkzeug-3.0.4-py3-none-any.whl.metadata (3.7 kB)\n",
      "Requirement already satisfied: importlib-metadata>=4.4 in /Users/apple/anaconda3/envs/TME/lib/python3.9/site-packages (from markdown>=2.6.8->tensorboard) (8.5.0)\n",
      "Collecting MarkupSafe>=2.1.1 (from werkzeug>=1.0.1->tensorboard)\n",
      "  Using cached MarkupSafe-2.1.5-cp39-cp39-macosx_10_9_x86_64.whl.metadata (3.0 kB)\n",
      "Requirement already satisfied: zipp>=3.20 in /Users/apple/anaconda3/envs/TME/lib/python3.9/site-packages (from importlib-metadata>=4.4->markdown>=2.6.8->tensorboard) (3.20.2)\n",
      "Downloading tensorboard-2.17.1-py3-none-any.whl (5.5 MB)\n",
      "\u001b[2K   \u001b[90m━━━━━━━━━━━━━━━━━━━━━━━━━━━━━━━━━━━━━━━━\u001b[0m \u001b[32m5.5/5.5 MB\u001b[0m \u001b[31m308.7 kB/s\u001b[0m eta \u001b[36m0:00:00\u001b[0m00:01\u001b[0m00:01\u001b[0m\n",
      "\u001b[?25hDownloading absl_py-2.1.0-py3-none-any.whl (133 kB)\n",
      "\u001b[2K   \u001b[90m━━━━━━━━━━━━━━━━━━━━━━━━━━━━━━━━━━━━━━━━\u001b[0m \u001b[32m133.7/133.7 kB\u001b[0m \u001b[31m1.1 MB/s\u001b[0m eta \u001b[36m0:00:00\u001b[0m \u001b[36m0:00:01\u001b[0m\n",
      "\u001b[?25hDownloading grpcio-1.66.1-cp39-cp39-macosx_10_9_universal2.whl (10.7 MB)\n",
      "\u001b[2K   \u001b[90m━━━━━━━━━━━━━━━━━━━━━━━━━━━━━━━━━━━━━━━━\u001b[0m \u001b[32m10.7/10.7 MB\u001b[0m \u001b[31m2.5 MB/s\u001b[0m eta \u001b[36m0:00:00\u001b[0m00:01\u001b[0m00:01\u001b[0m\n",
      "\u001b[?25hDownloading Markdown-3.7-py3-none-any.whl (106 kB)\n",
      "\u001b[2K   \u001b[90m━━━━━━━━━━━━━━━━━━━━━━━━━━━━━━━━━━━━━━━━\u001b[0m \u001b[32m106.3/106.3 kB\u001b[0m \u001b[31m1.0 MB/s\u001b[0m eta \u001b[36m0:00:00\u001b[0ma \u001b[36m0:00:01\u001b[0m\n",
      "\u001b[?25hDownloading numpy-2.0.2-cp39-cp39-macosx_14_0_x86_64.whl (6.9 MB)\n",
      "\u001b[2K   \u001b[90m━━━━━━━━━━━━━━━━━━━━━━━━━━━━━━━━━━━━━━━━\u001b[0m \u001b[32m6.9/6.9 MB\u001b[0m \u001b[31m2.3 MB/s\u001b[0m eta \u001b[36m0:00:00\u001b[0m00:01\u001b[0m00:01\u001b[0m\n",
      "\u001b[?25hDownloading protobuf-5.28.2-cp38-abi3-macosx_10_9_universal2.whl (414 kB)\n",
      "\u001b[2K   \u001b[90m━━━━━━━━━━━━━━━━━━━━━━━━━━━━━━━━━━━━━━━━\u001b[0m \u001b[32m414.7/414.7 kB\u001b[0m \u001b[31m1.9 MB/s\u001b[0m eta \u001b[36m0:00:00\u001b[0m00:01\u001b[0m00:01\u001b[0m\n",
      "\u001b[?25hUsing cached tensorboard_data_server-0.7.2-py3-none-macosx_10_9_x86_64.whl (4.8 MB)\n",
      "Downloading werkzeug-3.0.4-py3-none-any.whl (227 kB)\n",
      "\u001b[2K   \u001b[90m━━━━━━━━━━━━━━━━━━━━━━━━━━━━━━━━━━━━━━━━\u001b[0m \u001b[32m227.6/227.6 kB\u001b[0m \u001b[31m1.4 MB/s\u001b[0m eta \u001b[36m0:00:00\u001b[0m00:01\u001b[0m00:01\u001b[0m\n",
      "\u001b[?25hUsing cached MarkupSafe-2.1.5-cp39-cp39-macosx_10_9_x86_64.whl (14 kB)\n",
      "Installing collected packages: tensorboard-data-server, protobuf, numpy, MarkupSafe, grpcio, absl-py, werkzeug, markdown, tensorboard\n",
      "Successfully installed MarkupSafe-2.1.5 absl-py-2.1.0 grpcio-1.66.1 markdown-3.7 numpy-2.0.2 protobuf-5.28.2 tensorboard-2.17.1 tensorboard-data-server-0.7.2 werkzeug-3.0.4\n"
     ]
    }
   ],
   "source": [
    "# !pip install master_dac\n",
    "# !pip install torch torchvision\n",
    "# !pip show torch\n",
    "\n",
    "# !python3 -m pip install torch torchvision\n",
    "!python3 -m pip install tensorboard"
   ]
  },
  {
   "cell_type": "code",
   "execution_count": 4,
   "id": "9926fc28-6aef-4f1d-a4eb-82f73997c304",
   "metadata": {},
   "outputs": [
    {
     "ename": "ModuleNotFoundError",
     "evalue": "No module named 'torch'",
     "output_type": "error",
     "traceback": [
      "\u001b[0;31m---------------------------------------------------------------------------\u001b[0m",
      "\u001b[0;31mModuleNotFoundError\u001b[0m                       Traceback (most recent call last)",
      "Cell \u001b[0;32mIn[4], line 1\u001b[0m\n\u001b[0;32m----> 1\u001b[0m \u001b[38;5;28;01mfrom\u001b[39;00m \u001b[38;5;21;01msrc\u001b[39;00m\u001b[38;5;21;01m.\u001b[39;00m\u001b[38;5;21;01mtp1\u001b[39;00m \u001b[38;5;28;01mimport\u001b[39;00m \u001b[38;5;241m*\u001b[39m\n\u001b[1;32m      2\u001b[0m \u001b[38;5;28;01mfrom\u001b[39;00m \u001b[38;5;21;01msrc\u001b[39;00m\u001b[38;5;21;01m.\u001b[39;00m\u001b[38;5;21;01mtp1_gradcheck\u001b[39;00m \u001b[38;5;28;01mimport\u001b[39;00m \u001b[38;5;241m*\u001b[39m\n",
      "File \u001b[0;32m~/Documents/GitHub/AMAL/AMAL/TME/TME1/src/tp1.py:1\u001b[0m\n\u001b[0;32m----> 1\u001b[0m \u001b[38;5;28;01mimport\u001b[39;00m \u001b[38;5;21;01mtorch\u001b[39;00m\n\u001b[1;32m      2\u001b[0m \u001b[38;5;28;01mfrom\u001b[39;00m \u001b[38;5;21;01mtorch\u001b[39;00m\u001b[38;5;21;01m.\u001b[39;00m\u001b[38;5;21;01mautograd\u001b[39;00m \u001b[38;5;28;01mimport\u001b[39;00m Function\n\u001b[1;32m      3\u001b[0m \u001b[38;5;28;01mfrom\u001b[39;00m \u001b[38;5;21;01mtorch\u001b[39;00m\u001b[38;5;21;01m.\u001b[39;00m\u001b[38;5;21;01mautograd\u001b[39;00m \u001b[38;5;28;01mimport\u001b[39;00m gradcheck\n",
      "\u001b[0;31mModuleNotFoundError\u001b[0m: No module named 'torch'"
     ]
    }
   ],
   "source": [
    "from src.tp1 import *\n",
    "from src.tp1_gradcheck import *"
   ]
  },
  {
   "cell_type": "code",
   "execution_count": 24,
   "id": "6a2fa986",
   "metadata": {},
   "outputs": [],
   "source": [
    "!python src/tp1_gradcheck.py"
   ]
  },
  {
   "cell_type": "code",
   "execution_count": 18,
   "id": "8d803754-520d-4b91-aa8f-4828d4b586d5",
   "metadata": {},
   "outputs": [
    {
     "ename": "RuntimeError",
     "evalue": "a Tensor with 150 elements cannot be converted to Scalar",
     "output_type": "error",
     "traceback": [
      "\u001b[0;31m---------------------------------------------------------------------------\u001b[0m",
      "\u001b[0;31mRuntimeError\u001b[0m                              Traceback (most recent call last)",
      "\u001b[1;32m/Users/apple/Documents/GitHub/AMAL/AMAL/TME/TME1/TME_1.ipynb Cellule 4\u001b[0m line \u001b[0;36m2\n\u001b[1;32m     <a href='vscode-notebook-cell:/Users/apple/Documents/GitHub/AMAL/AMAL/TME/TME1/TME_1.ipynb#W3sZmlsZQ%3D%3D?line=19'>20</a>\u001b[0m ctx_mse \u001b[39m=\u001b[39m Context()\n\u001b[1;32m     <a href='vscode-notebook-cell:/Users/apple/Documents/GitHub/AMAL/AMAL/TME/TME1/TME_1.ipynb#W3sZmlsZQ%3D%3D?line=20'>21</a>\u001b[0m loss \u001b[39m=\u001b[39m MSE\u001b[39m.\u001b[39mforward(ctx_mse, yhat, y)\n\u001b[0;32m---> <a href='vscode-notebook-cell:/Users/apple/Documents/GitHub/AMAL/AMAL/TME/TME1/TME_1.ipynb#W3sZmlsZQ%3D%3D?line=21'>22</a>\u001b[0m losses\u001b[39m.\u001b[39mappend(loss\u001b[39m.\u001b[39;49mitem())\n\u001b[1;32m     <a href='vscode-notebook-cell:/Users/apple/Documents/GitHub/AMAL/AMAL/TME/TME1/TME_1.ipynb#W3sZmlsZQ%3D%3D?line=23'>24</a>\u001b[0m \u001b[39m# Backward pass: Compute gradients\u001b[39;00m\n\u001b[1;32m     <a href='vscode-notebook-cell:/Users/apple/Documents/GitHub/AMAL/AMAL/TME/TME1/TME_1.ipynb#W3sZmlsZQ%3D%3D?line=24'>25</a>\u001b[0m grad_yhat, _ \u001b[39m=\u001b[39m MSE\u001b[39m.\u001b[39mbackward(ctx_mse, \u001b[39m1\u001b[39m)\n",
      "\u001b[0;31mRuntimeError\u001b[0m: a Tensor with 150 elements cannot be converted to Scalar"
     ]
    }
   ],
   "source": [
    "# Implementing the forward, backward, and parameter update steps in the gradient descent optimization\n",
    "\n",
    "# Provided data and parameters\n",
    "x = torch.randn(50, 13)\n",
    "y = torch.randn(50, 3)\n",
    "w = torch.randn(13, 3)\n",
    "b = torch.randn(3)\n",
    "epsilon = 0.05\n",
    "\n",
    "# Placeholder lists to store the loss values and updated parameters for each iteration\n",
    "losses = []\n",
    "ws = []\n",
    "bs = []\n",
    "\n",
    "# Gradient descent optimization loop\n",
    "for n_iter in range(100):\n",
    "    # Forward pass: Compute predictions and loss\n",
    "    ctx_linear = Context()\n",
    "    yhat = Linear.forward(ctx_linear, x, w, b)\n",
    "    ctx_mse = Context()\n",
    "    loss = MSE.forward(ctx_mse, yhat, y)\n",
    "    losses.append(loss.item())\n",
    "    \n",
    "    # Backward pass: Compute gradients\n",
    "    grad_yhat, _ = MSE.backward(ctx_mse, 1)\n",
    "    grad_x, grad_w, grad_b = Linear.backward(ctx_linear, grad_yhat)\n",
    "    \n",
    "    # Update parameters using the gradients\n",
    "    w = w - epsilon * grad_w\n",
    "    b = b - epsilon * grad_b\n",
    "    ws.append(w)\n",
    "    bs.append(b)\n",
    "\n",
    "# Return the loss values for each iteration and the final updated parameters\n",
    "losses, ws[-1], bs[-1]"
   ]
  }
 ],
 "metadata": {
  "kernelspec": {
   "display_name": "Python 3 (ipykernel)",
   "language": "python",
   "name": "python3"
  },
  "language_info": {
   "codemirror_mode": {
    "name": "ipython",
    "version": 3
   },
   "file_extension": ".py",
   "mimetype": "text/x-python",
   "name": "python",
   "nbconvert_exporter": "python",
   "pygments_lexer": "ipython3",
   "version": "3.9.18"
  }
 },
 "nbformat": 4,
 "nbformat_minor": 5
}
